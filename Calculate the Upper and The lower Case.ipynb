{
 "cells": [
  {
   "cell_type": "markdown",
   "id": "9f2f5c1d",
   "metadata": {},
   "source": [
    "# Write a Python function that accepts a string and calculate the number of upper case letters and lower case letters."
   ]
  },
  {
   "cell_type": "code",
   "execution_count": 12,
   "id": "6a68a359",
   "metadata": {},
   "outputs": [
    {
     "name": "stdout",
     "output_type": "stream",
     "text": [
      "No. of Upper case characters 3\n",
      "no.of lower case characters 12\n"
     ]
    }
   ],
   "source": [
    "#Sample String : 'The quick Brow Fox'\n",
    "\n",
    "def count(string):\n",
    "    upper_count=0\n",
    "    lower_count=0  \n",
    "    for char in string:\n",
    "        if char.isupper():\n",
    "            upper_count+=1\n",
    "        elif char.islower():\n",
    "            lower_count+=1\n",
    "        else:\n",
    "            pass            \n",
    "    print('No. of Upper case characters',upper_count)\n",
    "    print('no.of lower case characters', lower_count)\n",
    "count('The quick Brow Fox')\n",
    "\n"
   ]
  },
  {
   "cell_type": "code",
   "execution_count": null,
   "id": "894a18d0",
   "metadata": {},
   "outputs": [],
   "source": []
  }
 ],
 "metadata": {
  "kernelspec": {
   "display_name": "Python 3 (ipykernel)",
   "language": "python",
   "name": "python3"
  },
  "language_info": {
   "codemirror_mode": {
    "name": "ipython",
    "version": 3
   },
   "file_extension": ".py",
   "mimetype": "text/x-python",
   "name": "python",
   "nbconvert_exporter": "python",
   "pygments_lexer": "ipython3",
   "version": "3.9.13"
  }
 },
 "nbformat": 4,
 "nbformat_minor": 5
}
